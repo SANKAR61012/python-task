{
 "cells": [
  {
   "cell_type": "code",
   "execution_count": 35,
   "id": "11fcdef9-9ce3-47a7-b5f5-134373c4b169",
   "metadata": {},
   "outputs": [
    {
     "name": "stdout",
     "output_type": "stream",
     "text": [
      "44\n",
      "2\n",
      "69\n"
     ]
    }
   ],
   "source": [
    "# Find the largest number in a list\n",
    "number=[5,8,2,10,44]\n",
    "print(max(number))\n",
    "print(min(number))\n",
    "print(sum(number))"
   ]
  },
  {
   "cell_type": "code",
   "execution_count": null,
   "id": "8b280d26-2564-4fb0-9a50-e934f3e51979",
   "metadata": {},
   "outputs": [
    {
     "name": "stdout",
     "output_type": "stream",
     "text": [
      "10\n"
     ]
    }
   ],
   "source": [
    "#Find the second largest number in a list\n",
    "number=[5,8,2,10,44]\n",
    "result=0\n",
    "for i in number:\n",
    "    if i>result:\n",
    "        print(result)\n",
    "        result=i\n",
    "        number.remove(result)\n",
    "print(result)"
   ]
  },
  {
   "cell_type": "code",
   "execution_count": 32,
   "id": "0361e790-dfba-4029-ab0e-623903a48870",
   "metadata": {},
   "outputs": [
    {
     "name": "stdout",
     "output_type": "stream",
     "text": [
      "42\n",
      "1815\n",
      "[6, 2, 8, 10, 12, 4]\n",
      "[3, 11, 55]\n"
     ]
    }
   ],
   "source": [
    "#Calculate the sum of all even numbers and product of all odd numbers in a list\n",
    "number=[3,6,2,8,10,12,11,55,4]\n",
    "even_number=[]\n",
    "odd_number=[]\n",
    "odd_result=1\n",
    "for i in number:\n",
    "    if i%2==0:\n",
    "        even_number.append(i)\n",
    "    else:\n",
    "        odd_number.append(i)\n",
    "print(sum(even_number))\n",
    "\n",
    "for num in odd_number:\n",
    "    odd_result=odd_result*num\n",
    "    \n",
    "print(odd_result)\n",
    "print(even_number)\n",
    "print(odd_number)"
   ]
  },
  {
   "cell_type": "code",
   "execution_count": 25,
   "id": "973b8b9b-f2ae-4300-bad6-7cee2d9bd20a",
   "metadata": {},
   "outputs": [
    {
     "name": "stdout",
     "output_type": "stream",
     "text": [
      "4\n"
     ]
    }
   ],
   "source": [
    "# Check if a given string is a palindrome or not.\n",
    "name=input()\n",
    "name1=name[::-1]\n",
    "if name==name1:\n",
    "    print(\"palindrome\")\n",
    "else:\n",
    "    print(\"not palindrome\")"
   ]
  },
  {
   "cell_type": "code",
   "execution_count": 39,
   "id": "f4dff6f8-053c-44c4-a214-97a788423afd",
   "metadata": {},
   "outputs": [
    {
     "name": "stdout",
     "output_type": "stream",
     "text": [
      "5\n",
      "5\n"
     ]
    }
   ],
   "source": [
    "#Count vowels and consonants in a string.#\n",
    "\n",
    "word=\"welcome to python\"\n",
    "vowels_count=0\n",
    "cons_count=0\n",
    "for i in \"aeiou\":\n",
    "    vowels_count=vowels_count+1\n",
    "    cons_count=cons_count+1\n",
    "print(vowels_count)\n",
    "print(cons_count)\n",
    "    \n",
    "    "
   ]
  },
  {
   "cell_type": "code",
   "execution_count": null,
   "id": "86cb54a6-ac09-4f4f-ae24-6d51eec04616",
   "metadata": {},
   "outputs": [],
   "source": [
    "#6. Calculate factorial of a number\n"
   ]
  },
  {
   "cell_type": "code",
   "execution_count": 4,
   "id": "bfd91682-bec3-48d8-9427-58ed6a847b81",
   "metadata": {},
   "outputs": [
    {
     "name": "stdout",
     "output_type": "stream",
     "text": [
      "* \n",
      "* * \n",
      "* * * \n",
      "* * * * \n",
      "* * * * * \n"
     ]
    }
   ],
   "source": [
    "#Half Pyramid Patterns in Python using Loop.\n",
    "n = 5\n",
    "for i in range(1, n + 1):\n",
    "    print('* ' * i)"
   ]
  },
  {
   "cell_type": "code",
   "execution_count": 9,
   "id": "a0058c9a-f541-4997-b807-2dc740393a6b",
   "metadata": {},
   "outputs": [
    {
     "name": "stdout",
     "output_type": "stream",
     "text": [
      "    *\n",
      "   ***\n",
      "  *****\n",
      " *******\n",
      "*********\n"
     ]
    }
   ],
   "source": [
    "#8. Full Pyramid Patterns in Python Recursion\n",
    "rows=5\n",
    "for i in range(1,rows+1):\n",
    "    print(\" \"*(rows-i)+\"*\"*(2*i-1))"
   ]
  },
  {
   "cell_type": "code",
   "execution_count": 11,
   "id": "910d7c7b-09dc-4515-8284-cf29c219fe16",
   "metadata": {},
   "outputs": [
    {
     "name": "stdout",
     "output_type": "stream",
     "text": [
      "*********\n",
      " *******\n",
      "  *****\n",
      "   ***\n",
      "    *\n"
     ]
    }
   ],
   "source": [
    "#9. Inverted Full Pyramid Patterns in Python\n",
    "rows=5\n",
    "for i in range(rows,0,-1):\n",
    "    print(\" \"*(rows-i)+\"*\"*(2*i-1))"
   ]
  },
  {
   "cell_type": "code",
   "execution_count": 12,
   "id": "c7a0009e-e2b4-405d-be98-67ab003722d4",
   "metadata": {},
   "outputs": [
    {
     "name": "stdout",
     "output_type": "stream",
     "text": [
      "[10, 45, 75, 100, 5]\n"
     ]
    }
   ],
   "source": [
    "#10. Display numbers divisible by 5 from a list\n",
    "numbers = [10, 23, 45, 66, 75, 88, 100, 3, 5]\n",
    "divisible_by_5 = [num for num in numbers if num % 5 == 0]\n",
    "print(divisible_by_5)"
   ]
  },
  {
   "cell_type": "code",
   "execution_count": 13,
   "id": "623f77ea-09ec-458d-84f6-94cb225fc9df",
   "metadata": {},
   "outputs": [
    {
     "name": "stdout",
     "output_type": "stream",
     "text": [
      "ok\n"
     ]
    }
   ],
   "source": [
    "#11. Check if the first and last number of a list is the same\n",
    "numbers = [10, 20, 30, 40, 10]\n",
    "\n",
    "if numbers[0] == numbers[-1]:\n",
    "    print(\"The first and last numbers are the same.\")\n",
    "else:\n",
    "    print(\"The first and last numbers are different.\")"
   ]
  },
  {
   "cell_type": "code",
   "execution_count": 18,
   "id": "5edb95b3-be1c-4202-8d03-2f8a72d0f853",
   "metadata": {},
   "outputs": [
    {
     "name": "stdout",
     "output_type": "stream",
     "text": [
      "P\n",
      "t\n",
      "o\n"
     ]
    }
   ],
   "source": [
    "#12. Print characters from a string that are present at an even index number\n",
    "text = \"Python\"\n",
    "\n",
    "for i in range(0, len(text), 2):\n",
    "    print(text[i])"
   ]
  },
  {
   "cell_type": "code",
   "execution_count": 19,
   "id": "266b064e-10d5-4bb6-8783-66bc2427c00a",
   "metadata": {},
   "outputs": [
    {
     "name": "stdout",
     "output_type": "stream",
     "text": [
      "Letters: 10\n",
      "Digits: 3\n",
      "Special symbols: 4\n"
     ]
    }
   ],
   "source": [
    "#13. Count all letters, digits, and special symbols from a given string\n",
    "text = \"Hello123@# World!\"\n",
    "\n",
    "# Counters\n",
    "letters = 0\n",
    "digits = 0\n",
    "specials = 0\n",
    "\n",
    "for char in text:\n",
    "    if char.isalpha():\n",
    "        letters = letters+1\n",
    "    elif char.isdigit():\n",
    "        digits = digits+1\n",
    "    else:\n",
    "        specials = specials+1\n",
    "\n",
    "print(\"Letters:\", letters)\n",
    "print(\"Digits:\", digits)\n",
    "print(\"Special symbols:\", specials)\n"
   ]
  },
  {
   "cell_type": "code",
   "execution_count": 25,
   "id": "a16a3dfc-136f-48b4-94e5-11214a16b59f",
   "metadata": {},
   "outputs": [
    {
     "name": "stdout",
     "output_type": "stream",
     "text": [
      "Only digits: 723456\n"
     ]
    }
   ],
   "source": [
    "#14. Removal all characters from a string except integers\n",
    "text = \"abc723xyz!@#456\"\n",
    "\n",
    "result = \"\"\n",
    "\n",
    "for char in text:\n",
    "    if char.isdigit():\n",
    "        result =result+char\n",
    "\n",
    "print(\"Only digits:\", result)"
   ]
  },
  {
   "cell_type": "code",
   "execution_count": 27,
   "id": "70713c3f-f7d5-4b80-8d7b-647b5350187c",
   "metadata": {},
   "outputs": [
    {
     "name": "stdout",
     "output_type": "stream",
     "text": [
      "150\n"
     ]
    }
   ],
   "source": [
    "#1.Datatype conversion(Need to change one datatype to other datatype).\n",
    "a=\"100\"\n",
    "b=int(a)\n",
    "print(b+50)"
   ]
  },
  {
   "cell_type": "code",
   "execution_count": 32,
   "id": "e166dc0c-16fb-4e61-9425-21759800d659",
   "metadata": {},
   "outputs": [
    {
     "name": "stdout",
     "output_type": "stream",
     "text": [
      "split(): ['Python', 'is', 'fun']\n",
      "join(): Python is fun\n",
      "Java is fun\n"
     ]
    }
   ],
   "source": [
    "#2. String split, join and replace.\n",
    "text = \"Python is fun\"\n",
    "\n",
    "words = text.split()\n",
    "sentence = \" \".join(words)\n",
    "new_text = text.replace(\"Python\",\"Java\")\n",
    "\n",
    "print(\"split():\",words)\n",
    "print(\"join():\",sentence)\n",
    "print(\"replace():\",new_text)"
   ]
  },
  {
   "cell_type": "code",
   "execution_count": null,
   "id": "2ac0b541-8548-477f-ab59-af94d12a359f",
   "metadata": {},
   "outputs": [],
   "source": [
    "#3. Swap two numbers without using a third variable.\n",
    "a = 10\n",
    "b = 5\n",
    "\n",
    "# Swapping\n",
    "a = a + b  # a becomes 15\n",
    "b = a - b  # b becomes 10\n",
    "a = a - b  # a becomes 5\n",
    "\n",
    "print(\"a =\", a)\n",
    "print(\"b =\", b)"
   ]
  },
  {
   "cell_type": "code",
   "execution_count": 33,
   "id": "5ee0ced3-1623-46d3-b57e-abdc46d07641",
   "metadata": {},
   "outputs": [
    {
     "name": "stdout",
     "output_type": "stream",
     "text": [
      "[1, 2, 3, 4, 5]\n"
     ]
    }
   ],
   "source": [
    "#4. Remove duplicate elements in a list.\n",
    "my_list = [1, 2, 2, 3, 4, 4, 5]\n",
    "new_list = []\n",
    "\n",
    "for num in my_list:\n",
    "    if num not in new_list:\n",
    "        new_list.append(num)\n",
    "\n",
    "print(new_list)"
   ]
  },
  {
   "cell_type": "code",
   "execution_count": 38,
   "id": "7a75aedc-2e65-456f-ad75-592afb5cb5e9",
   "metadata": {},
   "outputs": [
    {
     "name": "stdout",
     "output_type": "stream",
     "text": [
      "[1, 2, 3, 4, 5, 6, 7, 9, 10, 15, 17, 20]\n"
     ]
    }
   ],
   "source": [
    "#5. Sorting method.\n",
    "number = [2,4,1,9,3,10,20,17,15,5,6,7]\n",
    "result = sorted(number)\n",
    "print(result)"
   ]
  },
  {
   "cell_type": "code",
   "execution_count": 39,
   "id": "6720a27e-66cd-4c4b-a46c-643ecbed5824",
   "metadata": {},
   "outputs": [
    {
     "name": "stdout",
     "output_type": "stream",
     "text": [
      "Maximum value: 76\n",
      "Minimum value: 3\n"
     ]
    }
   ],
   "source": [
    "#6. Find maximum ad minimum values\n",
    "numbers = [10, 45, 3, 76, 23, 5]\n",
    "\n",
    "maximum = max(numbers)\n",
    "minimum = min(numbers)\n",
    "\n",
    "print(\"Maximum value:\", maximum)\n",
    "print(\"Minimum value:\", minimum)"
   ]
  },
  {
   "cell_type": "code",
   "execution_count": null,
   "id": "d881dd81-fdb4-4416-a90c-b6df2fc3e0ec",
   "metadata": {},
   "outputs": [],
   "source": []
  }
 ],
 "metadata": {
  "kernelspec": {
   "display_name": "Python 3 (ipykernel)",
   "language": "python",
   "name": "python3"
  },
  "language_info": {
   "codemirror_mode": {
    "name": "ipython",
    "version": 3
   },
   "file_extension": ".py",
   "mimetype": "text/x-python",
   "name": "python",
   "nbconvert_exporter": "python",
   "pygments_lexer": "ipython3",
   "version": "3.12.4"
  }
 },
 "nbformat": 4,
 "nbformat_minor": 5
}
