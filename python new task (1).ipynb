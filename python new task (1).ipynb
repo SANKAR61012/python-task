{
 "cells": [
  {
   "cell_type": "code",
   "execution_count": 2,
   "id": "5bcc9ec0-5598-471e-ac53-d5b22ca9ccda",
   "metadata": {},
   "outputs": [
    {
     "name": "stdout",
     "output_type": "stream",
     "text": [
      "t1m2rr3w\n"
     ]
    }
   ],
   "source": [
    "def home(word):\n",
    "    count=0\n",
    "    result=''\n",
    "    for i in word:\n",
    "        if i in \"o\":\n",
    "            count=count+1\n",
    "            result += str(count)\n",
    "        else:\n",
    "            result += i\n",
    "    return result\n",
    "\n",
    "name=\"tomorrow\"\n",
    "output=home(name)\n",
    "print(output)"
   ]
  },
  {
   "cell_type": "code",
   "execution_count": 4,
   "id": "449117e9-a527-48a3-a82e-268bbd4d35d0",
   "metadata": {},
   "outputs": [
    {
     "name": "stdout",
     "output_type": "stream",
     "text": [
      "t*m**rr***w\n"
     ]
    }
   ],
   "source": [
    "def home(word):\n",
    "    count=0\n",
    "    result=[]\n",
    "    for i in word:\n",
    "        if i in \"o\":\n",
    "            count=count+1\n",
    "            result.append(\"*\" * count)\n",
    "        else:\n",
    "            result.append(i)\n",
    "    return \"\".join(result)\n",
    "\n",
    "name=\"tomorrow\"\n",
    "output=home(name)\n",
    "print(output)"
   ]
  },
  {
   "cell_type": "code",
   "execution_count": 2,
   "id": "eefe1ba3-510a-4204-a07b-b8daf982628a",
   "metadata": {},
   "outputs": [
    {
     "name": "stdout",
     "output_type": "stream",
     "text": [
      "t#m##rr###w\n"
     ]
    }
   ],
   "source": [
    "def home(word):\n",
    "    count=0\n",
    "    result=[]\n",
    "    for i in word:\n",
    "        if i in \"o\":\n",
    "            count=count+1\n",
    "            result.append(\"#\" * count)\n",
    "        else:\n",
    "            result.append(i)\n",
    "    return \"\".join(result)\n",
    "\n",
    "name=\"tomorrow\"\n",
    "output=home(name)\n",
    "print(output)"
   ]
  },
  {
   "cell_type": "code",
   "execution_count": 3,
   "id": "aaedb817-4c2e-4c36-8f7b-fce6183d7ce9",
   "metadata": {},
   "outputs": [
    {
     "name": "stdout",
     "output_type": "stream",
     "text": [
      "Factorial of 5 is 120\n"
     ]
    }
   ],
   "source": [
    "# Find the factorial\n",
    "\n",
    "num = 5\n",
    "factorial = 1\n",
    "\n",
    "for i in range(1, num + 1):\n",
    "    factorial *= i\n",
    "\n",
    "print(\"Factorial of\", num, \"is\", factorial)\n"
   ]
  },
  {
   "cell_type": "code",
   "execution_count": 5,
   "id": "9e40a194-4cef-4aab-bff5-e71bf38ed5a3",
   "metadata": {},
   "outputs": [
    {
     "name": "stdout",
     "output_type": "stream",
     "text": [
      " * \n",
      " *  * \n",
      " *  *  * \n",
      " *  *  *  * \n",
      " *  *  *  *  * \n"
     ]
    }
   ],
   "source": [
    "rows = 5\n",
    "for i in range(1, rows + 1):\n",
    "    print(\" * \" * i)\n"
   ]
  },
  {
   "cell_type": "code",
   "execution_count": 9,
   "id": "d2f2b8cd-8ec5-4f81-a41f-bacfc5c91f21",
   "metadata": {},
   "outputs": [
    {
     "name": "stdout",
     "output_type": "stream",
     "text": [
      "1  \n",
      "1  2  \n",
      "1  2  3  \n",
      "1  2  3  4  \n",
      "1  2  3  4  5  \n"
     ]
    }
   ],
   "source": [
    "rows = 5\n",
    "for i in range(1, rows + 1):\n",
    "    for j in range(1, i + 1):\n",
    "        print(j, end=\"  \")\n",
    "    print()"
   ]
  },
  {
   "cell_type": "code",
   "execution_count": 12,
   "id": "6cbef9c4-81d5-448c-89b0-09c5373d9aee",
   "metadata": {},
   "outputs": [
    {
     "name": "stdout",
     "output_type": "stream",
     "text": [
      "    *\n",
      "   ***\n",
      "  *****\n",
      " *******\n",
      "*********\n"
     ]
    }
   ],
   "source": [
    "rows=5\n",
    "for i in range(1,rows+1):\n",
    "    print(\" \"*(rows-i)+\"*\"*(2*i-1))"
   ]
  },
  {
   "cell_type": "code",
   "execution_count": 18,
   "id": "42ee6314-a28c-4ed0-8660-5e7773241fe0",
   "metadata": {},
   "outputs": [
    {
     "name": "stdout",
     "output_type": "stream",
     "text": [
      "maximum number:  44\n",
      "minimum number:  2\n",
      "number of total : 69\n"
     ]
    }
   ],
   "source": [
    "# find the maximum and minimum the sum\n",
    "rows = [5,8,2,10,44]\n",
    "print(\"maximum number: \",max(rows))\n",
    "print(\"minimum number: \",min(rows))\n",
    "print(\"number of total :\",sum(rows))"
   ]
  },
  {
   "cell_type": "code",
   "execution_count": 20,
   "id": "d5d7558b-80b2-4b25-aeb3-bca644543056",
   "metadata": {},
   "outputs": [
    {
     "name": "stdout",
     "output_type": "stream",
     "text": [
      "list of even number : 42\n",
      "list of odd number : 69\n"
     ]
    }
   ],
   "source": [
    "number=[3,6,2,8,10,12,11,55,4]\n",
    "even_num = []\n",
    "odd_num = []\n",
    "for i in number:\n",
    "    if i%2==0:\n",
    "        even_num.append(i)\n",
    "    else:\n",
    "        odd_num.append(i)\n",
    "\n",
    "print(\"list of even number :\",sum(even_num))\n",
    "print(\"list of odd number :\",sum(odd_num))"
   ]
  },
  {
   "cell_type": "code",
   "execution_count": 21,
   "id": "a5ff53d0-73d3-4b11-a90e-4a3f2dd9cf0f",
   "metadata": {},
   "outputs": [
    {
     "name": "stdin",
     "output_type": "stream",
     "text": [
      "Enter your name: 1634\n"
     ]
    },
    {
     "name": "stdout",
     "output_type": "stream",
     "text": [
      "not palindorme\n"
     ]
    }
   ],
   "source": [
    "name=input(\"Enter your name:\")\n",
    "name1=name[::-1]\n",
    "if name==name1:\n",
    "    print(\"palindrome\")\n",
    "else:\n",
    "    print(\"not palindorme\")"
   ]
  },
  {
   "cell_type": "code",
   "execution_count": 22,
   "id": "a35088df-5de4-4a3a-bfc0-31f8b63d2a05",
   "metadata": {},
   "outputs": [
    {
     "name": "stdout",
     "output_type": "stream",
     "text": [
      "number of vowels 4\n",
      "number of contstants 12\n"
     ]
    }
   ],
   "source": [
    "word = \"Welcom to python\"\n",
    "vowels_count = 0\n",
    "cont_count = 0\n",
    "for i in word:\n",
    "    if i in \"aeiou\":\n",
    "        vowels_count = vowels_count+1\n",
    "    else:\n",
    "        cont_count = cont_count+1\n",
    "\n",
    "print(\"number of vowels\",vowels_count)\n",
    "print(\"number of contstants\",cont_count)"
   ]
  },
  {
   "cell_type": "code",
   "execution_count": 23,
   "id": "f920972a-9bb3-4b76-8c56-f437486c036a",
   "metadata": {},
   "outputs": [
    {
     "name": "stdout",
     "output_type": "stream",
     "text": [
      "the first and last number are the same...\n"
     ]
    }
   ],
   "source": [
    "num=[10, 20, 30, 40, 10]\n",
    "\n",
    "if num[0]==num[-1]:\n",
    "    print(\"the first and last number are the same...\")\n",
    "else:\n",
    "    print(\"not same\")"
   ]
  },
  {
   "cell_type": "code",
   "execution_count": 24,
   "id": "ff39bbf8-c0fb-4bd4-b29e-abe4c212a034",
   "metadata": {},
   "outputs": [
    {
     "name": "stdout",
     "output_type": "stream",
     "text": [
      "number of letter 10\n",
      "number of digits 3\n",
      "number of special cherator 4\n"
     ]
    }
   ],
   "source": [
    "text = \"hello123@# world!\"\n",
    "letters = 0\n",
    "digits = 0\n",
    "special_ch = 0\n",
    "for i in text:\n",
    "    if i.isalpha():\n",
    "        letters = letters+1\n",
    "    elif i.isdigit():\n",
    "        digits = digits+1\n",
    "    else:\n",
    "        special_ch = special_ch+1\n",
    "print(\"number of letter\",letters)\n",
    "print(\"number of digits\",digits)\n",
    "print(\"number of special cherator\",special_ch)"
   ]
  },
  {
   "cell_type": "code",
   "execution_count": 25,
   "id": "75d0c4d6-d1e3-4e4b-9398-4f50e516f56f",
   "metadata": {},
   "outputs": [
    {
     "name": "stdout",
     "output_type": "stream",
     "text": [
      "6\n",
      "pythonisprolangandeasy\n",
      "22\n",
      "['python', 'is', 'pro', 'lang', 'and', 'easy']\n"
     ]
    }
   ],
   "source": [
    "text = \"python is pro lang and easy\"\n",
    "\n",
    "word = text.split()\n",
    "join_str = \"\".join(word)\n",
    "\n",
    "print(len(word))\n",
    "print(join_str)\n",
    "print(len(join_str))\n",
    "\n",
    "print(word)"
   ]
  },
  {
   "cell_type": "code",
   "execution_count": 26,
   "id": "880e3781-61c2-4cc8-bc98-2b1427fcb82c",
   "metadata": {},
   "outputs": [
    {
     "name": "stdout",
     "output_type": "stream",
     "text": [
      " hello world \n",
      " HELLO WORLD \n",
      " Hello World \n",
      " hello world \n",
      "Hello World\n",
      "Hello World \n",
      " Hello World\n"
     ]
    }
   ],
   "source": [
    "text = \" Hello World \"\n",
    "\n",
    "print(text.lower())       # ' hello world '\n",
    "print(text.upper())       # ' HELLO WORLD '\n",
    "print(text.title())       # ' Hello World '\n",
    "print(text.capitalize())  # ' hello world '\n",
    "print(text.strip())       # 'Hello World'\n",
    "print(text.lstrip())      # 'Hello World '\n",
    "print(text.rstrip())      #  Hello World'\n"
   ]
  },
  {
   "cell_type": "code",
   "execution_count": 27,
   "id": "52446f7f-ff37-4628-a743-d9d957f1c852",
   "metadata": {},
   "outputs": [
    {
     "name": "stdout",
     "output_type": "stream",
     "text": [
      "1\n",
      "5\n",
      "2\n",
      "bxnxnx\n",
      "3\n"
     ]
    }
   ],
   "source": [
    "text = \"banana\"\n",
    "\n",
    "print(text.find(\"a\"))         # 1\n",
    "print(text.rfind(\"a\"))        # 5\n",
    "print(text.index(\"n\"))        # 2\n",
    "print(text.replace(\"a\", \"x\")) # 'bxnxnx'\n",
    "print(text.count(\"a\"))        # 3\n"
   ]
  },
  {
   "cell_type": "code",
   "execution_count": null,
   "id": "c5d1c970-8fdc-4c67-be17-d320243eb399",
   "metadata": {},
   "outputs": [],
   "source": [
    "print(\"abc\".isalpha())     # True\n",
    "print(\"123\".isdigit())     # True\n",
    "print(\"abc123\".isalnum())  # True\n",
    "print(\"   \".isspace())     # True\n",
    "print(\"hello\".islower())   # True\n",
    "print(\"HELLO\".isupper())   # True\n",
    "print(\"hello\".startswith(\"he\"))  # True\n",
    "print(\"hello\".endswith(\"lo\"))    # True\n"
   ]
  }
 ],
 "metadata": {
  "kernelspec": {
   "display_name": "Python 3 (ipykernel)",
   "language": "python",
   "name": "python3"
  },
  "language_info": {
   "codemirror_mode": {
    "name": "ipython",
    "version": 3
   },
   "file_extension": ".py",
   "mimetype": "text/x-python",
   "name": "python",
   "nbconvert_exporter": "python",
   "pygments_lexer": "ipython3",
   "version": "3.9.6"
  }
 },
 "nbformat": 4,
 "nbformat_minor": 5
}
